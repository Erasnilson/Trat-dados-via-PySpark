{
  "nbformat": 4,
  "nbformat_minor": 0,
  "metadata": {
    "colab": {
      "provenance": [],
      "authorship_tag": "ABX9TyPsL/S+3I8SP8og3k8ULVBU",
      "include_colab_link": true
    },
    "kernelspec": {
      "name": "python3",
      "display_name": "Python 3"
    },
    "language_info": {
      "name": "python"
    }
  },
  "cells": [
    {
      "cell_type": "markdown",
      "metadata": {
        "id": "view-in-github",
        "colab_type": "text"
      },
      "source": [
        "<a href=\"https://colab.research.google.com/github/Erasnilson/Trat-dados-via-PySpark/blob/main/Trat_dados_via_PySpark.ipynb\" target=\"_parent\"><img src=\"https://colab.research.google.com/assets/colab-badge.svg\" alt=\"Open In Colab\"/></a>"
      ]
    },
    {
      "cell_type": "markdown",
      "source": [
        "## Tratamento de dados via PySpark\n",
        "- Nesse exemplo utilizaremos uma base de dados da Agência Nacional de Aviação Civil (ANAC).\n",
        "\n",
        "- Fluxo de voos no mês 06-2024\n",
        "\n"
      ],
      "metadata": {
        "id": "H-iAZGigdQre"
      }
    },
    {
      "cell_type": "markdown",
      "metadata": {
        "id": "oIT11nS83ssp"
      },
      "source": [
        "## Java e Spark\n",
        "\n",
        "O Apache Spark é uma plataforma de processamento de dados em larga escala, projetada para ser rápida e eficiente. Ele é amplamente utilizado em várias áreas, permite a análise de grandes volumes de dados em paralelo. As tarefas podem ser distribuídas por vários nós de uma rede, o que acelera o processamento.\n"
      ]
    },
    {
      "cell_type": "code",
      "execution_count": null,
      "metadata": {
        "id": "L4TQ97HY-wD7"
      },
      "outputs": [],
      "source": [
        "#download do Java via colab\n",
        "!apt-get install openjdk-8-jdk-headless -qq > /dev/null"
      ]
    },
    {
      "cell_type": "code",
      "source": [
        "#download do spark via colab\n",
        "!wget -q https://dlcdn.apache.org/spark/spark-3.5.1/spark-3.5.1-bin-hadoop3.tgz"
      ],
      "metadata": {
        "id": "28yBL4faiXrW"
      },
      "execution_count": null,
      "outputs": []
    },
    {
      "cell_type": "code",
      "source": [
        "#descompactando o spark\n",
        "!tar xf spark-3.5.1-bin-hadoop3.tgz"
      ],
      "metadata": {
        "id": "NQ_NjcouiLsS"
      },
      "execution_count": null,
      "outputs": []
    },
    {
      "cell_type": "markdown",
      "metadata": {
        "id": "v7_MTSE9-2pb"
      },
      "source": [
        "### Instalando o findspark\n",
        "\n",
        "A biblioteca findspark é utilizada para realizar a configuração do pyspark.\n",
        "O findspark permite que você especifique o caminho de instalação do Spark manualmente dentro do seu código, sem precisar configurar variáveis de ambiente do sistema."
      ]
    },
    {
      "cell_type": "code",
      "execution_count": null,
      "metadata": {
        "id": "ZCDv5VEE-65T"
      },
      "outputs": [],
      "source": [
        "#instalando o findspark\n",
        "!pip install -q findspark"
      ]
    },
    {
      "cell_type": "code",
      "execution_count": null,
      "metadata": {
        "id": "s0x9pFsxBCDu"
      },
      "outputs": [],
      "source": [
        "#importando as bilbiotecas\n",
        "import findspark\n",
        "import os"
      ]
    },
    {
      "cell_type": "code",
      "execution_count": null,
      "metadata": {
        "id": "ZXrAKeIQ_oEv"
      },
      "outputs": [],
      "source": [
        "#configurando a variável de ambiente do Java\n",
        "os.environ[\"JAVA_HOME\"] = \"/usr/lib/jvm/java-8-openjdk-amd64\"\n",
        "os.environ[\"SPARK_HOME\"] = \"/content/spark-3.5.1-bin-hadoop3\""
      ]
    },
    {
      "cell_type": "markdown",
      "metadata": {
        "id": "76oTn8lF3Y_j"
      },
      "source": [
        "### Iniciando uma sessão do spark em modo local"
      ]
    },
    {
      "cell_type": "code",
      "source": [
        "!pip install pyspark==3.4.0"
      ],
      "metadata": {
        "colab": {
          "base_uri": "https://localhost:8080/"
        },
        "id": "s8ejobF9gdwq",
        "outputId": "4baeaf33-80be-4827-b491-c3011f340e8e"
      },
      "execution_count": null,
      "outputs": [
        {
          "output_type": "stream",
          "name": "stdout",
          "text": [
            "Collecting pyspark==3.4.0\n",
            "  Downloading pyspark-3.4.0.tar.gz (310.8 MB)\n",
            "\u001b[2K     \u001b[90m━━━━━━━━━━━━━━━━━━━━━━━━━━━━━━━━━━━━━━━━\u001b[0m \u001b[32m310.8/310.8 MB\u001b[0m \u001b[31m3.8 MB/s\u001b[0m eta \u001b[36m0:00:00\u001b[0m\n",
            "\u001b[?25h  Preparing metadata (setup.py) ... \u001b[?25l\u001b[?25hdone\n",
            "Requirement already satisfied: py4j==0.10.9.7 in /usr/local/lib/python3.10/dist-packages (from pyspark==3.4.0) (0.10.9.7)\n",
            "Building wheels for collected packages: pyspark\n",
            "  Building wheel for pyspark (setup.py) ... \u001b[?25l\u001b[?25hdone\n",
            "  Created wheel for pyspark: filename=pyspark-3.4.0-py2.py3-none-any.whl size=311317122 sha256=7e428f702b00684b0ccd6b809f36aeb4da9996d2e4092e17a793e5f00d4978f4\n",
            "  Stored in directory: /root/.cache/pip/wheels/7b/1b/4b/3363a1d04368e7ff0d408e57ff57966fcdf00583774e761327\n",
            "Successfully built pyspark\n",
            "Installing collected packages: pyspark\n",
            "Successfully installed pyspark-3.4.0\n"
          ]
        }
      ]
    },
    {
      "cell_type": "code",
      "execution_count": null,
      "metadata": {
        "id": "u4u78je3_4dS"
      },
      "outputs": [],
      "source": [
        "#informando a pasta raíz do spark\n",
        "findspark.init(\"spark-3.5.1-bin-hadoop3\")"
      ]
    },
    {
      "cell_type": "code",
      "execution_count": null,
      "metadata": {
        "id": "8u7o0fidBKsi"
      },
      "outputs": [],
      "source": [
        "#iniciando uma sessão do Spark\n",
        "from pyspark.sql import SparkSession\n",
        "spark = SparkSession.builder.master(\"local[*]\").getOrCreate()\n"
      ]
    },
    {
      "cell_type": "code",
      "source": [
        "#visualizando a versão do Spark\n",
        "spark"
      ],
      "metadata": {
        "colab": {
          "base_uri": "https://localhost:8080/",
          "height": 222
        },
        "id": "AMl_y04QUNja",
        "outputId": "81989ffc-96e6-4bfa-d753-b96c0f0df872"
      },
      "execution_count": null,
      "outputs": [
        {
          "output_type": "execute_result",
          "data": {
            "text/plain": [
              "<pyspark.sql.session.SparkSession at 0x7c8bcc08c640>"
            ],
            "text/html": [
              "\n",
              "            <div>\n",
              "                <p><b>SparkSession - in-memory</b></p>\n",
              "                \n",
              "        <div>\n",
              "            <p><b>SparkContext</b></p>\n",
              "\n",
              "            <p><a href=\"http://f64f20fcbe52:4040\">Spark UI</a></p>\n",
              "\n",
              "            <dl>\n",
              "              <dt>Version</dt>\n",
              "                <dd><code>v3.5.1</code></dd>\n",
              "              <dt>Master</dt>\n",
              "                <dd><code>local[*]</code></dd>\n",
              "              <dt>AppName</dt>\n",
              "                <dd><code>pyspark-shell</code></dd>\n",
              "            </dl>\n",
              "        </div>\n",
              "        \n",
              "            </div>\n",
              "        "
            ]
          },
          "metadata": {},
          "execution_count": 10
        }
      ]
    },
    {
      "cell_type": "code",
      "execution_count": null,
      "metadata": {
        "id": "tChEokHfriAw"
      },
      "outputs": [],
      "source": [
        "from pyspark import SparkContext\n",
        "from pyspark.sql import SQLContext\n",
        "import pandas as pd"
      ]
    },
    {
      "cell_type": "code",
      "execution_count": null,
      "metadata": {
        "colab": {
          "base_uri": "https://localhost:8080/"
        },
        "id": "kNZVVCCFBRai",
        "outputId": "f679d36f-c2f7-4ba2-9a8b-c13d2cf1f725"
      },
      "outputs": [
        {
          "output_type": "stream",
          "name": "stderr",
          "text": [
            "/content/spark-3.5.1-bin-hadoop3/python/pyspark/sql/context.py:113: FutureWarning: Deprecated in 3.0.0. Use SparkSession.builder.getOrCreate() instead.\n",
            "  warnings.warn(\n"
          ]
        }
      ],
      "source": [
        "#iniciando o objeto SQLContext\n",
        "sc = SparkContext.getOrCreate()\n",
        "sqlContext = SQLContext(sc)"
      ]
    },
    {
      "cell_type": "markdown",
      "metadata": {
        "id": "LqRvEfYNdLl-"
      },
      "source": [
        "## Dataset [Sirios-ANAC](https://siros.anac.gov.br/siros/registros/diversos/vra/2024/)"
      ]
    },
    {
      "cell_type": "markdown",
      "metadata": {
        "id": "LXPTaKxUMpWA"
      },
      "source": [
        "## Base de dados da Agência Nacional de Aviação Civil (ANAC).\n",
        "\n",
        " - Fluxo de voos no mês 06-2024\n",
        " - Aerpoporto de Guarulhos\n",
        "\n"
      ]
    },
    {
      "cell_type": "code",
      "source": [
        "!wget https://siros.anac.gov.br/siros/registros/diversos/vra/2024/VRA_2024_06.csv"
      ],
      "metadata": {
        "id": "24ICzEpYlcrG",
        "colab": {
          "base_uri": "https://localhost:8080/"
        },
        "outputId": "5f2357a8-e3a9-4160-c0f1-ed8171681918"
      },
      "execution_count": null,
      "outputs": [
        {
          "output_type": "stream",
          "name": "stdout",
          "text": [
            "--2024-08-11 23:32:47--  https://siros.anac.gov.br/siros/registros/diversos/vra/2024/VRA_2024_06.csv\n",
            "Resolving siros.anac.gov.br (siros.anac.gov.br)... 189.84.138.178\n",
            "Connecting to siros.anac.gov.br (siros.anac.gov.br)|189.84.138.178|:443... connected.\n",
            "HTTP request sent, awaiting response... 200 OK\n",
            "Length: 22207071 (21M) [application/octet-stream]\n",
            "Saving to: ‘VRA_2024_06.csv’\n",
            "\n",
            "VRA_2024_06.csv     100%[===================>]  21.18M   947KB/s    in 24s     \n",
            "\n",
            "2024-08-11 23:33:13 (896 KB/s) - ‘VRA_2024_06.csv’ saved [22207071/22207071]\n",
            "\n"
          ]
        }
      ]
    },
    {
      "cell_type": "code",
      "execution_count": null,
      "metadata": {
        "id": "iG8iE3qkUh_m"
      },
      "outputs": [],
      "source": [
        "#realizando o download da pasta\n",
        "#!wget -r -np -nH --cut-dirs=4 -A csv https://siros.anac.gov.br/siros/registros/diversos/vra/2023/\n",
        "#descompactando o arquivo de dados em zip\n",
        "#!unzip 2019.zip"
      ]
    },
    {
      "cell_type": "code",
      "source": [
        "data_voo = sqlContext.read.load(\"VRA_2024_06.csv\", #pasta \"2023/*\"\n",
        "                     format='csv',\n",
        "                     header='true',\n",
        "                     #lineSep='',#\\r\\n\n",
        "                     inferSchema='true',\n",
        "                     delimiter=\";\",\n",
        "                     multiLine = 'true',\n",
        "                     dateFormat = \"dd/MM/yyyy\",\n",
        "                     timestampFormat = \"dd/MM/yyyy HH:mm\")"
      ],
      "metadata": {
        "id": "ZLwTz2QTiiu6"
      },
      "execution_count": null,
      "outputs": []
    },
    {
      "cell_type": "code",
      "source": [
        "# tratando a cofiguração data-hora dentro de cada pasta (por ano)\n",
        "data_voo.show(5)\n",
        "data_voo.printSchema()"
      ],
      "metadata": {
        "colab": {
          "base_uri": "https://localhost:8080/"
        },
        "id": "CRGfJurcjY5N",
        "outputId": "92d3aab5-b274-43f7-b6c9-81c79977377e"
      },
      "execution_count": null,
      "outputs": [
        {
          "output_type": "stream",
          "name": "stdout",
          "text": [
            "+------------------------+--------------------+----------+---------+-----------------+------------------+------------------+---------------------------+--------------------------+-------------------+-------------------+----------------------------+---------------------------+-------------------+-------------------+------------+-------------+----------+----------------+----------------+\n",
            "|Sigla ICAO Empresa Aérea|       Empresa Aérea|Número Voo|Código DI|Código Tipo Linha|Modelo Equipamento|Número de Assentos|Sigla ICAO Aeroporto Origem|Descrição Aeroporto Origem|   Partida Prevista|       Partida Real|Sigla ICAO Aeroporto Destino|Descrição Aeroporto Destino|   Chegada Prevista|       Chegada Real|Situação Voo|Justificativa|Referência|Situação Partida|Situação Chegada|\n",
            "+------------------------+--------------------+----------+---------+-----------------+------------------+------------------+---------------------------+--------------------------+-------------------+-------------------+----------------------------+---------------------------+-------------------+-------------------+------------+-------------+----------+----------------+----------------+\n",
            "|                     AAL|AMERICAN AIRLINES...|      0904|        0|                I|              B788|               295|                       SBGL|      AEROPORTO INTERNA...|2024-06-01 23:00:00|2024-06-02 11:51:00|                        KMIA|       MIAMI INTERNATION...|2024-06-02 07:35:00|2024-06-02 20:46:00|   REALIZADO|         NULL|2024-06-01|    Atraso > 240|    Atraso > 240|\n",
            "|                     AAL|AMERICAN AIRLINES...|      0905|        0|                I|              B788|               295|                       KMIA|      MIAMI INTERNATION...|2024-06-01 21:55:00|2024-06-01 22:40:00|                        SBGL|       AEROPORTO INTERNA...|2024-06-02 06:00:00|2024-06-02 06:56:00|   REALIZADO|         NULL|2024-06-01|    Atraso 30-60|    Atraso 30-60|\n",
            "|                     AAL|AMERICAN AIRLINES...|      0906|        0|                I|              B772|               288|                       SBGR|      GUARULHOS - GOVER...|2024-06-01 23:15:00|2024-06-01 23:08:00|                        KMIA|       MIAMI INTERNATION...|2024-06-02 07:45:00|2024-06-02 07:31:00|   REALIZADO|         NULL|2024-06-01|      Antecipado|      Antecipado|\n",
            "|                     AAL|AMERICAN AIRLINES...|      0929|        0|                I|              B77W|               318|                       KMIA|      MIAMI INTERNATION...|2024-06-01 20:50:00|2024-06-01 20:55:00|                        SBGR|       GUARULHOS - GOVER...|2024-06-02 05:15:00|2024-06-02 04:39:00|   REALIZADO|         NULL|2024-06-01|         Pontual|      Antecipado|\n",
            "|                     AAL|AMERICAN AIRLINES...|      0930|        0|                I|              B77W|               318|                       SBGR|      GUARULHOS - GOVER...|2024-06-01 21:25:00|2024-06-01 21:18:00|                        KMIA|       MIAMI INTERNATION...|2024-06-02 05:55:00|2024-06-02 05:15:00|   REALIZADO|         NULL|2024-06-01|      Antecipado|      Antecipado|\n",
            "+------------------------+--------------------+----------+---------+-----------------+------------------+------------------+---------------------------+--------------------------+-------------------+-------------------+----------------------------+---------------------------+-------------------+-------------------+------------+-------------+----------+----------------+----------------+\n",
            "only showing top 5 rows\n",
            "\n",
            "root\n",
            " |-- Sigla ICAO Empresa Aérea: string (nullable = true)\n",
            " |-- Empresa Aérea: string (nullable = true)\n",
            " |-- Número Voo: string (nullable = true)\n",
            " |-- Código DI: string (nullable = true)\n",
            " |-- Código Tipo Linha: string (nullable = true)\n",
            " |-- Modelo Equipamento: string (nullable = true)\n",
            " |-- Número de Assentos: integer (nullable = true)\n",
            " |-- Sigla ICAO Aeroporto Origem: string (nullable = true)\n",
            " |-- Descrição Aeroporto Origem: string (nullable = true)\n",
            " |-- Partida Prevista: timestamp (nullable = true)\n",
            " |-- Partida Real: timestamp (nullable = true)\n",
            " |-- Sigla ICAO Aeroporto Destino: string (nullable = true)\n",
            " |-- Descrição Aeroporto Destino: string (nullable = true)\n",
            " |-- Chegada Prevista: timestamp (nullable = true)\n",
            " |-- Chegada Real: timestamp (nullable = true)\n",
            " |-- Situação Voo: string (nullable = true)\n",
            " |-- Justificativa: string (nullable = true)\n",
            " |-- Referência: string (nullable = true)\n",
            " |-- Situação Partida: string (nullable = true)\n",
            " |-- Situação Chegada: string (nullable = true)\n",
            "\n"
          ]
        }
      ]
    },
    {
      "cell_type": "markdown",
      "source": [
        "\n",
        "# A variável \"referência\"  foi classificada como string, deve ser classificada como data."
      ],
      "metadata": {
        "id": "8VrKDzvfOCFt"
      }
    },
    {
      "cell_type": "code",
      "source": [
        "# Tornando a variável referencia no mesmo padrão dos outros anos\n",
        "from pyspark.sql.functions import *\n",
        "#data_voov2=data_voo.withColumn('Referência', substring('Referência', 1,10))\n",
        "\n",
        "# deixar a variavel referencia no mesmo padrao das demais\n",
        "data_voov2 = data_voo.withColumn('Referência', to_date(data_voo['Referência'], 'yyyy-MM-dd'))"
      ],
      "metadata": {
        "id": "_WMt7-F4YgV1"
      },
      "execution_count": null,
      "outputs": []
    },
    {
      "cell_type": "code",
      "source": [
        "# tratando a cofiguração data-hora dentro de cada pasta (por ano)\n",
        "data_voov2.show(5)\n",
        "data_voov2.printSchema()"
      ],
      "metadata": {
        "colab": {
          "base_uri": "https://localhost:8080/"
        },
        "id": "QnVa50uzHeAj",
        "outputId": "871154b5-c24a-4706-ad68-19ce9629b3c6"
      },
      "execution_count": null,
      "outputs": [
        {
          "output_type": "stream",
          "name": "stdout",
          "text": [
            "+------------------------+--------------------+----------+---------+-----------------+------------------+------------------+---------------------------+--------------------------+-------------------+-------------------+----------------------------+---------------------------+-------------------+-------------------+------------+-------------+----------+----------------+----------------+\n",
            "|Sigla ICAO Empresa Aérea|       Empresa Aérea|Número Voo|Código DI|Código Tipo Linha|Modelo Equipamento|Número de Assentos|Sigla ICAO Aeroporto Origem|Descrição Aeroporto Origem|   Partida Prevista|       Partida Real|Sigla ICAO Aeroporto Destino|Descrição Aeroporto Destino|   Chegada Prevista|       Chegada Real|Situação Voo|Justificativa|Referência|Situação Partida|Situação Chegada|\n",
            "+------------------------+--------------------+----------+---------+-----------------+------------------+------------------+---------------------------+--------------------------+-------------------+-------------------+----------------------------+---------------------------+-------------------+-------------------+------------+-------------+----------+----------------+----------------+\n",
            "|                     AAL|AMERICAN AIRLINES...|      0904|        0|                I|              B788|               295|                       SBGL|      AEROPORTO INTERNA...|2024-06-01 23:00:00|2024-06-02 11:51:00|                        KMIA|       MIAMI INTERNATION...|2024-06-02 07:35:00|2024-06-02 20:46:00|   REALIZADO|         NULL|2024-06-01|    Atraso > 240|    Atraso > 240|\n",
            "|                     AAL|AMERICAN AIRLINES...|      0905|        0|                I|              B788|               295|                       KMIA|      MIAMI INTERNATION...|2024-06-01 21:55:00|2024-06-01 22:40:00|                        SBGL|       AEROPORTO INTERNA...|2024-06-02 06:00:00|2024-06-02 06:56:00|   REALIZADO|         NULL|2024-06-01|    Atraso 30-60|    Atraso 30-60|\n",
            "|                     AAL|AMERICAN AIRLINES...|      0906|        0|                I|              B772|               288|                       SBGR|      GUARULHOS - GOVER...|2024-06-01 23:15:00|2024-06-01 23:08:00|                        KMIA|       MIAMI INTERNATION...|2024-06-02 07:45:00|2024-06-02 07:31:00|   REALIZADO|         NULL|2024-06-01|      Antecipado|      Antecipado|\n",
            "|                     AAL|AMERICAN AIRLINES...|      0929|        0|                I|              B77W|               318|                       KMIA|      MIAMI INTERNATION...|2024-06-01 20:50:00|2024-06-01 20:55:00|                        SBGR|       GUARULHOS - GOVER...|2024-06-02 05:15:00|2024-06-02 04:39:00|   REALIZADO|         NULL|2024-06-01|         Pontual|      Antecipado|\n",
            "|                     AAL|AMERICAN AIRLINES...|      0930|        0|                I|              B77W|               318|                       SBGR|      GUARULHOS - GOVER...|2024-06-01 21:25:00|2024-06-01 21:18:00|                        KMIA|       MIAMI INTERNATION...|2024-06-02 05:55:00|2024-06-02 05:15:00|   REALIZADO|         NULL|2024-06-01|      Antecipado|      Antecipado|\n",
            "+------------------------+--------------------+----------+---------+-----------------+------------------+------------------+---------------------------+--------------------------+-------------------+-------------------+----------------------------+---------------------------+-------------------+-------------------+------------+-------------+----------+----------------+----------------+\n",
            "only showing top 5 rows\n",
            "\n",
            "root\n",
            " |-- Sigla ICAO Empresa Aérea: string (nullable = true)\n",
            " |-- Empresa Aérea: string (nullable = true)\n",
            " |-- Número Voo: string (nullable = true)\n",
            " |-- Código DI: string (nullable = true)\n",
            " |-- Código Tipo Linha: string (nullable = true)\n",
            " |-- Modelo Equipamento: string (nullable = true)\n",
            " |-- Número de Assentos: integer (nullable = true)\n",
            " |-- Sigla ICAO Aeroporto Origem: string (nullable = true)\n",
            " |-- Descrição Aeroporto Origem: string (nullable = true)\n",
            " |-- Partida Prevista: timestamp (nullable = true)\n",
            " |-- Partida Real: timestamp (nullable = true)\n",
            " |-- Sigla ICAO Aeroporto Destino: string (nullable = true)\n",
            " |-- Descrição Aeroporto Destino: string (nullable = true)\n",
            " |-- Chegada Prevista: timestamp (nullable = true)\n",
            " |-- Chegada Real: timestamp (nullable = true)\n",
            " |-- Situação Voo: string (nullable = true)\n",
            " |-- Justificativa: string (nullable = true)\n",
            " |-- Referência: date (nullable = true)\n",
            " |-- Situação Partida: string (nullable = true)\n",
            " |-- Situação Chegada: string (nullable = true)\n",
            "\n"
          ]
        }
      ]
    },
    {
      "cell_type": "markdown",
      "metadata": {
        "id": "Rwf13TteNwKL"
      },
      "source": [
        "Uma das estratégias ofertadas pelo Spark, com foco em aumentar o desempenho da execução de operações sobre os dados é o método cache(), que permite guardar em memória os resultados dos dados obtidos por operações, para serem utilizados em consultas posteriores."
      ]
    },
    {
      "cell_type": "code",
      "source": [
        "spark"
      ],
      "metadata": {
        "colab": {
          "base_uri": "https://localhost:8080/",
          "height": 222
        },
        "id": "GOZghpOuhXOZ",
        "outputId": "c4a7fa74-09f0-4524-8c79-a20a22bffe88"
      },
      "execution_count": null,
      "outputs": [
        {
          "output_type": "execute_result",
          "data": {
            "text/plain": [
              "<pyspark.sql.session.SparkSession at 0x7c8bcc08c640>"
            ],
            "text/html": [
              "\n",
              "            <div>\n",
              "                <p><b>SparkSession - in-memory</b></p>\n",
              "                \n",
              "        <div>\n",
              "            <p><b>SparkContext</b></p>\n",
              "\n",
              "            <p><a href=\"http://f64f20fcbe52:4040\">Spark UI</a></p>\n",
              "\n",
              "            <dl>\n",
              "              <dt>Version</dt>\n",
              "                <dd><code>v3.5.1</code></dd>\n",
              "              <dt>Master</dt>\n",
              "                <dd><code>local[*]</code></dd>\n",
              "              <dt>AppName</dt>\n",
              "                <dd><code>pyspark-shell</code></dd>\n",
              "            </dl>\n",
              "        </div>\n",
              "        \n",
              "            </div>\n",
              "        "
            ]
          },
          "metadata": {},
          "execution_count": 19
        }
      ]
    },
    {
      "cell_type": "code",
      "execution_count": null,
      "metadata": {
        "id": "fJSgy4N7fwC0"
      },
      "outputs": [],
      "source": [
        "#criando um cache dos dados\n",
        "df_train = data_voov2.cache()"
      ]
    },
    {
      "cell_type": "markdown",
      "metadata": {
        "id": "NNgceKsC54Ch"
      },
      "source": [
        "## Organizando a base de dados"
      ]
    },
    {
      "cell_type": "code",
      "execution_count": null,
      "metadata": {
        "colab": {
          "base_uri": "https://localhost:8080/"
        },
        "id": "-M3J2_Fty1Wq",
        "outputId": "6188e62d-ed11-431a-ced6-317cff4ef979"
      },
      "outputs": [
        {
          "output_type": "stream",
          "name": "stdout",
          "text": [
            "+------------------------+--------------------+----------+---------+-----------------+------------------+------------------+---------------------------+--------------------------+-------------------+-------------------+----------------------------+---------------------------+-------------------+-------------------+------------+-------------+----------+----------------+----------------+\n",
            "|Sigla ICAO Empresa Aérea|       Empresa Aérea|Número Voo|Código DI|Código Tipo Linha|Modelo Equipamento|Número de Assentos|Sigla ICAO Aeroporto Origem|Descrição Aeroporto Origem|   Partida Prevista|       Partida Real|Sigla ICAO Aeroporto Destino|Descrição Aeroporto Destino|   Chegada Prevista|       Chegada Real|Situação Voo|Justificativa|Referência|Situação Partida|Situação Chegada|\n",
            "+------------------------+--------------------+----------+---------+-----------------+------------------+------------------+---------------------------+--------------------------+-------------------+-------------------+----------------------------+---------------------------+-------------------+-------------------+------------+-------------+----------+----------------+----------------+\n",
            "|                     AAL|AMERICAN AIRLINES...|      0904|        0|                I|              B788|               295|                       SBGL|      AEROPORTO INTERNA...|2024-06-01 23:00:00|2024-06-02 11:51:00|                        KMIA|       MIAMI INTERNATION...|2024-06-02 07:35:00|2024-06-02 20:46:00|   REALIZADO|         NULL|2024-06-01|    Atraso > 240|    Atraso > 240|\n",
            "|                     AAL|AMERICAN AIRLINES...|      0905|        0|                I|              B788|               295|                       KMIA|      MIAMI INTERNATION...|2024-06-01 21:55:00|2024-06-01 22:40:00|                        SBGL|       AEROPORTO INTERNA...|2024-06-02 06:00:00|2024-06-02 06:56:00|   REALIZADO|         NULL|2024-06-01|    Atraso 30-60|    Atraso 30-60|\n",
            "|                     AAL|AMERICAN AIRLINES...|      0906|        0|                I|              B772|               288|                       SBGR|      GUARULHOS - GOVER...|2024-06-01 23:15:00|2024-06-01 23:08:00|                        KMIA|       MIAMI INTERNATION...|2024-06-02 07:45:00|2024-06-02 07:31:00|   REALIZADO|         NULL|2024-06-01|      Antecipado|      Antecipado|\n",
            "|                     AAL|AMERICAN AIRLINES...|      0929|        0|                I|              B77W|               318|                       KMIA|      MIAMI INTERNATION...|2024-06-01 20:50:00|2024-06-01 20:55:00|                        SBGR|       GUARULHOS - GOVER...|2024-06-02 05:15:00|2024-06-02 04:39:00|   REALIZADO|         NULL|2024-06-01|         Pontual|      Antecipado|\n",
            "|                     AAL|AMERICAN AIRLINES...|      0930|        0|                I|              B77W|               318|                       SBGR|      GUARULHOS - GOVER...|2024-06-01 21:25:00|2024-06-01 21:18:00|                        KMIA|       MIAMI INTERNATION...|2024-06-02 05:55:00|2024-06-02 05:15:00|   REALIZADO|         NULL|2024-06-01|      Antecipado|      Antecipado|\n",
            "+------------------------+--------------------+----------+---------+-----------------+------------------+------------------+---------------------------+--------------------------+-------------------+-------------------+----------------------------+---------------------------+-------------------+-------------------+------------+-------------+----------+----------------+----------------+\n",
            "only showing top 5 rows\n",
            "\n"
          ]
        }
      ],
      "source": [
        "# deletar coluna que possui null\n",
        "# eliminando colunas que sem \"data de partidas\"/\"chegada do voo\" (Referência = data prevista sem horas)\n",
        "df_train = df_train.dropna(subset=('Partida Real','Chegada Real','Referência'))\n",
        "df_train.show(5)"
      ]
    },
    {
      "cell_type": "markdown",
      "source": [
        "# Criando novas variáveis a partir da data de Referência"
      ],
      "metadata": {
        "id": "Xc1tg75pPDE9"
      }
    },
    {
      "cell_type": "code",
      "execution_count": null,
      "metadata": {
        "colab": {
          "base_uri": "https://localhost:8080/"
        },
        "id": "YLquQltQjjsY",
        "outputId": "8a059e49-b409-4586-cd96-5c1009d060a7"
      },
      "outputs": [
        {
          "output_type": "stream",
          "name": "stdout",
          "text": [
            "+------------------------+--------------------+----------+---------+-----------------+------------------+------------------+---------------------------+--------------------------+-------------------+-------------------+----------------------------+---------------------------+-------------------+-------------------+------------+-------------+----------+----------------+----------------+----+-----+---+\n",
            "|Sigla ICAO Empresa Aérea|       Empresa Aérea|Número Voo|Código DI|Código Tipo Linha|Modelo Equipamento|Número de Assentos|Sigla ICAO Aeroporto Origem|Descrição Aeroporto Origem|   Partida Prevista|       Partida Real|Sigla ICAO Aeroporto Destino|Descrição Aeroporto Destino|   Chegada Prevista|       Chegada Real|Situação Voo|Justificativa|Referência|Situação Partida|Situação Chegada|year|month|day|\n",
            "+------------------------+--------------------+----------+---------+-----------------+------------------+------------------+---------------------------+--------------------------+-------------------+-------------------+----------------------------+---------------------------+-------------------+-------------------+------------+-------------+----------+----------------+----------------+----+-----+---+\n",
            "|                     AAL|AMERICAN AIRLINES...|      0904|        0|                I|              B788|               295|                       SBGL|      AEROPORTO INTERNA...|2024-06-01 23:00:00|2024-06-02 11:51:00|                        KMIA|       MIAMI INTERNATION...|2024-06-02 07:35:00|2024-06-02 20:46:00|   REALIZADO|         NULL|2024-06-01|    Atraso > 240|    Atraso > 240|2024|    6|  1|\n",
            "|                     AAL|AMERICAN AIRLINES...|      0905|        0|                I|              B788|               295|                       KMIA|      MIAMI INTERNATION...|2024-06-01 21:55:00|2024-06-01 22:40:00|                        SBGL|       AEROPORTO INTERNA...|2024-06-02 06:00:00|2024-06-02 06:56:00|   REALIZADO|         NULL|2024-06-01|    Atraso 30-60|    Atraso 30-60|2024|    6|  1|\n",
            "|                     AAL|AMERICAN AIRLINES...|      0906|        0|                I|              B772|               288|                       SBGR|      GUARULHOS - GOVER...|2024-06-01 23:15:00|2024-06-01 23:08:00|                        KMIA|       MIAMI INTERNATION...|2024-06-02 07:45:00|2024-06-02 07:31:00|   REALIZADO|         NULL|2024-06-01|      Antecipado|      Antecipado|2024|    6|  1|\n",
            "|                     AAL|AMERICAN AIRLINES...|      0929|        0|                I|              B77W|               318|                       KMIA|      MIAMI INTERNATION...|2024-06-01 20:50:00|2024-06-01 20:55:00|                        SBGR|       GUARULHOS - GOVER...|2024-06-02 05:15:00|2024-06-02 04:39:00|   REALIZADO|         NULL|2024-06-01|         Pontual|      Antecipado|2024|    6|  1|\n",
            "|                     AAL|AMERICAN AIRLINES...|      0930|        0|                I|              B77W|               318|                       SBGR|      GUARULHOS - GOVER...|2024-06-01 21:25:00|2024-06-01 21:18:00|                        KMIA|       MIAMI INTERNATION...|2024-06-02 05:55:00|2024-06-02 05:15:00|   REALIZADO|         NULL|2024-06-01|      Antecipado|      Antecipado|2024|    6|  1|\n",
            "+------------------------+--------------------+----------+---------+-----------------+------------------+------------------+---------------------------+--------------------------+-------------------+-------------------+----------------------------+---------------------------+-------------------+-------------------+------------+-------------+----------+----------------+----------------+----+-----+---+\n",
            "only showing top 5 rows\n",
            "\n",
            "root\n",
            " |-- Sigla ICAO Empresa Aérea: string (nullable = true)\n",
            " |-- Empresa Aérea: string (nullable = true)\n",
            " |-- Número Voo: string (nullable = true)\n",
            " |-- Código DI: string (nullable = true)\n",
            " |-- Código Tipo Linha: string (nullable = true)\n",
            " |-- Modelo Equipamento: string (nullable = true)\n",
            " |-- Número de Assentos: integer (nullable = true)\n",
            " |-- Sigla ICAO Aeroporto Origem: string (nullable = true)\n",
            " |-- Descrição Aeroporto Origem: string (nullable = true)\n",
            " |-- Partida Prevista: timestamp (nullable = true)\n",
            " |-- Partida Real: timestamp (nullable = true)\n",
            " |-- Sigla ICAO Aeroporto Destino: string (nullable = true)\n",
            " |-- Descrição Aeroporto Destino: string (nullable = true)\n",
            " |-- Chegada Prevista: timestamp (nullable = true)\n",
            " |-- Chegada Real: timestamp (nullable = true)\n",
            " |-- Situação Voo: string (nullable = true)\n",
            " |-- Justificativa: string (nullable = true)\n",
            " |-- Referência: date (nullable = true)\n",
            " |-- Situação Partida: string (nullable = true)\n",
            " |-- Situação Chegada: string (nullable = true)\n",
            " |-- year: integer (nullable = true)\n",
            " |-- month: integer (nullable = true)\n",
            " |-- day: integer (nullable = true)\n",
            "\n"
          ]
        }
      ],
      "source": [
        "# subdividir uma variavel por carachter\n",
        "from pyspark.sql.types import IntegerType\n",
        "\n",
        "df_train=df_train.withColumn('year', substring('Referência', 1,4).cast(IntegerType()))\\\n",
        ".withColumn('month', substring('Referência', 6,2).cast(IntegerType()))\\\n",
        ".withColumn('day', substring('Referência', 9,2).cast(IntegerType()))\n",
        "\n",
        "df_train.show(5)\n",
        "df_train.printSchema()\n",
        "# 4 digitos (incluíndo 1) = ano  ex: 2024-06-01\n",
        "# 2 digitos (incluíndo 6) = mês\n",
        "# 2 digitos (incluíndo 9) = mês"
      ]
    },
    {
      "cell_type": "code",
      "execution_count": null,
      "metadata": {
        "colab": {
          "base_uri": "https://localhost:8080/"
        },
        "id": "-oXah13F29GD",
        "outputId": "afc0b271-5606-4ac4-9d07-146b8932ef7b"
      },
      "outputs": [
        {
          "output_type": "stream",
          "name": "stdout",
          "text": [
            "+------------------------+--------------------+----------+---------+-----------------+------------------+------------------+---------------------------+--------------------------+-------------------+-------------------+----------------------------+---------------------------+-------------------+-------------------+------------+-------------+----------+----------------+----------------+----+-----+---+\n",
            "|Sigla ICAO Empresa Aérea|       Empresa Aérea|Número Voo|Código DI|Código Tipo Linha|Modelo Equipamento|Número de Assentos|Sigla ICAO Aeroporto Origem|Descrição Aeroporto Origem|   Partida Prevista|       Partida Real|Sigla ICAO Aeroporto Destino|Descrição Aeroporto Destino|   Chegada Prevista|       Chegada Real|Situação Voo|Justificativa|Referência|Situação Partida|Situação Chegada|year|month|day|\n",
            "+------------------------+--------------------+----------+---------+-----------------+------------------+------------------+---------------------------+--------------------------+-------------------+-------------------+----------------------------+---------------------------+-------------------+-------------------+------------+-------------+----------+----------------+----------------+----+-----+---+\n",
            "|                     AAL|AMERICAN AIRLINES...|      0906|        0|                I|              B772|               288|                       SBGR|      GUARULHOS - GOVER...|2024-06-01 23:15:00|2024-06-01 23:08:00|                        KMIA|       MIAMI INTERNATION...|2024-06-02 07:45:00|2024-06-02 07:31:00|   REALIZADO|         NULL|2024-06-01|      Antecipado|      Antecipado|2024|    6|  1|\n",
            "|                     AAL|AMERICAN AIRLINES...|      0930|        0|                I|              B77W|               318|                       SBGR|      GUARULHOS - GOVER...|2024-06-01 21:25:00|2024-06-01 21:18:00|                        KMIA|       MIAMI INTERNATION...|2024-06-02 05:55:00|2024-06-02 05:15:00|   REALIZADO|         NULL|2024-06-01|      Antecipado|      Antecipado|2024|    6|  1|\n",
            "|                     AAL|AMERICAN AIRLINES...|      0962|        0|                I|              B789|               295|                       SBGR|      GUARULHOS - GOVER...|2024-06-01 22:20:00|2024-06-01 22:16:00|                        KDFW|       DALLAS-FORT WORTH...|2024-06-02 08:45:00|2024-06-02 08:18:00|   REALIZADO|         NULL|2024-06-01|      Antecipado|      Antecipado|2024|    6|  1|\n",
            "|                     AAL|AMERICAN AIRLINES...|      0906|        0|                I|              B772|               288|                       SBGR|      GUARULHOS - GOVER...|2024-06-02 23:15:00|2024-06-02 23:08:00|                        KMIA|       MIAMI INTERNATION...|2024-06-03 07:45:00|2024-06-03 07:27:00|   REALIZADO|         NULL|2024-06-02|      Antecipado|      Antecipado|2024|    6|  2|\n",
            "|                     AAL|AMERICAN AIRLINES...|      0930|        0|                I|              B77W|               318|                       SBGR|      GUARULHOS - GOVER...|2024-06-02 21:25:00|2024-06-02 21:18:00|                        KMIA|       MIAMI INTERNATION...|2024-06-03 05:55:00|2024-06-03 05:31:00|   REALIZADO|         NULL|2024-06-02|      Antecipado|      Antecipado|2024|    6|  2|\n",
            "+------------------------+--------------------+----------+---------+-----------------+------------------+------------------+---------------------------+--------------------------+-------------------+-------------------+----------------------------+---------------------------+-------------------+-------------------+------------+-------------+----------+----------------+----------------+----+-----+---+\n",
            "only showing top 5 rows\n",
            "\n"
          ]
        }
      ],
      "source": [
        "# Filtrar a base de dados que será utilizada (considerando uma pré-análise)\n",
        "df_train.filter( (col('Situação Voo') == \"REALIZADO\") & (col('Sigla ICAO Aeroporto Origem') == \"SBGR\") & (col('year')==2024) ).show(5)\n",
        "# SBGR - Guarulhos"
      ]
    },
    {
      "cell_type": "markdown",
      "metadata": {
        "id": "gX-ARCM8V_5Z"
      },
      "source": [
        "# Filtros em pyspark/pandas\n"
      ]
    },
    {
      "cell_type": "code",
      "source": [
        "# Demais filtros\n",
        "#df_train.filter( (col('Situação Voo') == \"REALIZADO\") & (col('Sigla ICAO Aeroporto Origem') == \"SBGR\") & (col('year')==2024) ).toPandas().head(5)\n",
        "#df_train.groupBy('year','month').agg({\"Referência\": \"count\"}).sort('year','month').toPandas()\n",
        "#df_train.groupBy('Situação Chegada',\"Empresa Aérea\",\"DiffInHoursR\").count().show()\n",
        "#df_train.groupBy('Situação Chegada',\"Empresa Aérea\",\"Data_Ref\").agg({\"horas_voo\": \"avg\"}).sort(\"Empresa Aérea\").show()\n",
        "#'Sigla ICAO Aeroporto Destino'Referência .sort('year','month')\n",
        "#.sort(\"Situação Voo\", \"Número de Assentos\")\n",
        "#.agg({\"salary\": \"avg\", \"age\": \"max\"}).show()"
      ],
      "metadata": {
        "id": "IuWmW3-dQI6_"
      },
      "execution_count": null,
      "outputs": []
    },
    {
      "cell_type": "markdown",
      "metadata": {
        "id": "sjIo2RpSgmDI"
      },
      "source": [
        "## Groupby"
      ]
    },
    {
      "cell_type": "code",
      "execution_count": null,
      "metadata": {
        "colab": {
          "base_uri": "https://localhost:8080/"
        },
        "id": "cgeH4GBqgh8q",
        "outputId": "04455e1f-7f25-4e08-b3f5-583ea874ad64"
      },
      "outputs": [
        {
          "output_type": "stream",
          "name": "stdout",
          "text": [
            "+----------+-----------------+\n",
            "|Referência|count(Referência)|\n",
            "+----------+-----------------+\n",
            "|2024-06-01|             1886|\n",
            "|2024-06-02|             2365|\n",
            "|2024-06-03|             2570|\n",
            "|2024-06-04|             2563|\n",
            "|2024-06-05|             2555|\n",
            "+----------+-----------------+\n",
            "only showing top 5 rows\n",
            "\n"
          ]
        }
      ],
      "source": [
        "from pandas.core.indexes.api import safe_sort_index\n",
        "from numpy import select\n",
        "from pandas.core.groupby import groupby\n",
        "\n",
        "# Voos por dia em Guarulhos\n",
        "df_train.groupBy(\"Referência\").agg({\"Referência\": \"count\"}).sort('Referência').show(5)\n",
        "\n",
        "# Renomear as variáveis\n",
        "from pyspark.sql.functions import *\n",
        "#df_train.withColumnRenamed(\"Referência\",\"Data\").withColumnRenamed(\"count(Referência)\",\"n\")"
      ]
    },
    {
      "cell_type": "code",
      "source": [
        "# Converter o DataFrame PySpark para um DataFrame Pandas\n",
        "pd_df = df_train.toPandas()"
      ],
      "metadata": {
        "id": "N_ILH7fSvSzt"
      },
      "execution_count": null,
      "outputs": []
    },
    {
      "cell_type": "code",
      "source": [
        "!pip install unidecode\n",
        "import unidecode\n",
        "\n",
        "pd_df.columns = (\n",
        "    pd_df.columns\n",
        "    .map(unidecode.unidecode)  # Remove a acentuação de todas as letras\n",
        "    .str.replace('[^A-Za-z0-9_]', '', regex=True)  # Remove caracteres especiais, mantendo letras e números\n",
        ")\n",
        "pd_df.columns"
      ],
      "metadata": {
        "colab": {
          "base_uri": "https://localhost:8080/"
        },
        "id": "pUnynOXWvLr8",
        "outputId": "4f3c3f8a-c5c5-4569-8bd8-306187a7fff7"
      },
      "execution_count": null,
      "outputs": [
        {
          "output_type": "stream",
          "name": "stdout",
          "text": [
            "Collecting unidecode\n",
            "  Downloading Unidecode-1.3.8-py3-none-any.whl.metadata (13 kB)\n",
            "Downloading Unidecode-1.3.8-py3-none-any.whl (235 kB)\n",
            "\u001b[?25l   \u001b[90m━━━━━━━━━━━━━━━━━━━━━━━━━━━━━━━━━━━━━━━━\u001b[0m \u001b[32m0.0/235.5 kB\u001b[0m \u001b[31m?\u001b[0m eta \u001b[36m-:--:--\u001b[0m\r\u001b[2K   \u001b[90m━━━━━━━━━━━━━━━━━━━━━━━━━━━━━━━━━━━━━━━━\u001b[0m \u001b[32m235.5/235.5 kB\u001b[0m \u001b[31m15.5 MB/s\u001b[0m eta \u001b[36m0:00:00\u001b[0m\n",
            "\u001b[?25hInstalling collected packages: unidecode\n",
            "Successfully installed unidecode-1.3.8\n"
          ]
        },
        {
          "output_type": "execute_result",
          "data": {
            "text/plain": [
              "Index(['SiglaICAOEmpresaAerea', 'EmpresaAerea', 'NumeroVoo', 'CodigoDI',\n",
              "       'CodigoTipoLinha', 'ModeloEquipamento', 'NumerodeAssentos',\n",
              "       'SiglaICAOAeroportoOrigem', 'DescricaoAeroportoOrigem',\n",
              "       'PartidaPrevista', 'PartidaReal', 'SiglaICAOAeroportoDestino',\n",
              "       'DescricaoAeroportoDestino', 'ChegadaPrevista', 'ChegadaReal',\n",
              "       'SituacaoVoo', 'Justificativa', 'Referencia', 'SituacaoPartida',\n",
              "       'SituacaoChegada', 'year', 'month', 'day'],\n",
              "      dtype='object')"
            ]
          },
          "metadata": {},
          "execution_count": 27
        }
      ]
    },
    {
      "cell_type": "code",
      "source": [
        "\n",
        "\n",
        "# Filtrar os dados com as condições desejadas e mostrar as 5 primeiras linhas\n",
        "filtered_df = pd_df[(pd_df['SituacaoVoo'] == \"REALIZADO\") &\n",
        "                    (pd_df['SiglaICAOAeroportoOrigem'] == \"SBGR\") &\n",
        "                    (pd_df['year'] == 2024)]\n",
        "\n"
      ],
      "metadata": {
        "id": "yYRckGr36FWk"
      },
      "execution_count": null,
      "outputs": []
    },
    {
      "cell_type": "code",
      "source": [
        "#get info about the dataset:\n",
        "print(filtered_df.info())\n",
        "print(\"-\"*25)\n",
        "# to know more about the shape of the dataset:\n",
        "print(\"shape of the dataset -->>\",np.shape(filtered_df))"
      ],
      "metadata": {
        "colab": {
          "base_uri": "https://localhost:8080/"
        },
        "id": "dOOmR4w6LVMs",
        "outputId": "a43b040d-616d-46ff-dfba-0d81f0d9c263"
      },
      "execution_count": null,
      "outputs": [
        {
          "output_type": "stream",
          "name": "stdout",
          "text": [
            "<class 'pandas.core.frame.DataFrame'>\n",
            "Index: 11146 entries, 2 to 75195\n",
            "Data columns (total 23 columns):\n",
            " #   Column                     Non-Null Count  Dtype         \n",
            "---  ------                     --------------  -----         \n",
            " 0   SiglaICAOEmpresaAerea      11146 non-null  object        \n",
            " 1   EmpresaAerea               11146 non-null  object        \n",
            " 2   NumeroVoo                  11146 non-null  object        \n",
            " 3   CodigoDI                   11146 non-null  object        \n",
            " 4   CodigoTipoLinha            11146 non-null  object        \n",
            " 5   ModeloEquipamento          11146 non-null  object        \n",
            " 6   NumerodeAssentos           11146 non-null  int32         \n",
            " 7   SiglaICAOAeroportoOrigem   11146 non-null  object        \n",
            " 8   DescricaoAeroportoOrigem   11146 non-null  object        \n",
            " 9   PartidaPrevista            10919 non-null  datetime64[ns]\n",
            " 10  PartidaReal                11146 non-null  datetime64[ns]\n",
            " 11  SiglaICAOAeroportoDestino  11146 non-null  object        \n",
            " 12  DescricaoAeroportoDestino  11146 non-null  object        \n",
            " 13  ChegadaPrevista            10919 non-null  datetime64[ns]\n",
            " 14  ChegadaReal                11146 non-null  datetime64[ns]\n",
            " 15  SituacaoVoo                11146 non-null  object        \n",
            " 16  Justificativa              0 non-null      object        \n",
            " 17  Referencia                 11146 non-null  object        \n",
            " 18  SituacaoPartida            10919 non-null  object        \n",
            " 19  SituacaoChegada            10919 non-null  object        \n",
            " 20  year                       11146 non-null  int32         \n",
            " 21  month                      11146 non-null  int32         \n",
            " 22  day                        11146 non-null  int32         \n",
            "dtypes: datetime64[ns](4), int32(4), object(15)\n",
            "memory usage: 1.9+ MB\n",
            "None\n",
            "-------------------------\n",
            "shape of the dataset -->> (11146, 23)\n"
          ]
        }
      ]
    },
    {
      "cell_type": "code",
      "source": [
        "#check if there null values in data:\n",
        "filtered_df.isna().mean()\n"
      ],
      "metadata": {
        "colab": {
          "base_uri": "https://localhost:8080/",
          "height": 805
        },
        "id": "00UqAzRWKp_E",
        "outputId": "58cde259-e9e7-45db-9cdf-d6e4d47fda87"
      },
      "execution_count": null,
      "outputs": [
        {
          "output_type": "execute_result",
          "data": {
            "text/plain": [
              "SiglaICAOEmpresaAerea        0.000000\n",
              "EmpresaAerea                 0.000000\n",
              "NumeroVoo                    0.000000\n",
              "CodigoDI                     0.000000\n",
              "CodigoTipoLinha              0.000000\n",
              "ModeloEquipamento            0.000000\n",
              "NumerodeAssentos             0.000000\n",
              "SiglaICAOAeroportoOrigem     0.000000\n",
              "DescricaoAeroportoOrigem     0.000000\n",
              "PartidaPrevista              0.020366\n",
              "PartidaReal                  0.000000\n",
              "SiglaICAOAeroportoDestino    0.000000\n",
              "DescricaoAeroportoDestino    0.000000\n",
              "ChegadaPrevista              0.020366\n",
              "ChegadaReal                  0.000000\n",
              "SituacaoVoo                  0.000000\n",
              "Justificativa                1.000000\n",
              "Referencia                   0.000000\n",
              "SituacaoPartida              0.020366\n",
              "SituacaoChegada              0.020366\n",
              "year                         0.000000\n",
              "month                        0.000000\n",
              "day                          0.000000\n",
              "dtype: float64"
            ],
            "text/html": [
              "<div>\n",
              "<style scoped>\n",
              "    .dataframe tbody tr th:only-of-type {\n",
              "        vertical-align: middle;\n",
              "    }\n",
              "\n",
              "    .dataframe tbody tr th {\n",
              "        vertical-align: top;\n",
              "    }\n",
              "\n",
              "    .dataframe thead th {\n",
              "        text-align: right;\n",
              "    }\n",
              "</style>\n",
              "<table border=\"1\" class=\"dataframe\">\n",
              "  <thead>\n",
              "    <tr style=\"text-align: right;\">\n",
              "      <th></th>\n",
              "      <th>0</th>\n",
              "    </tr>\n",
              "  </thead>\n",
              "  <tbody>\n",
              "    <tr>\n",
              "      <th>SiglaICAOEmpresaAerea</th>\n",
              "      <td>0.000000</td>\n",
              "    </tr>\n",
              "    <tr>\n",
              "      <th>EmpresaAerea</th>\n",
              "      <td>0.000000</td>\n",
              "    </tr>\n",
              "    <tr>\n",
              "      <th>NumeroVoo</th>\n",
              "      <td>0.000000</td>\n",
              "    </tr>\n",
              "    <tr>\n",
              "      <th>CodigoDI</th>\n",
              "      <td>0.000000</td>\n",
              "    </tr>\n",
              "    <tr>\n",
              "      <th>CodigoTipoLinha</th>\n",
              "      <td>0.000000</td>\n",
              "    </tr>\n",
              "    <tr>\n",
              "      <th>ModeloEquipamento</th>\n",
              "      <td>0.000000</td>\n",
              "    </tr>\n",
              "    <tr>\n",
              "      <th>NumerodeAssentos</th>\n",
              "      <td>0.000000</td>\n",
              "    </tr>\n",
              "    <tr>\n",
              "      <th>SiglaICAOAeroportoOrigem</th>\n",
              "      <td>0.000000</td>\n",
              "    </tr>\n",
              "    <tr>\n",
              "      <th>DescricaoAeroportoOrigem</th>\n",
              "      <td>0.000000</td>\n",
              "    </tr>\n",
              "    <tr>\n",
              "      <th>PartidaPrevista</th>\n",
              "      <td>0.020366</td>\n",
              "    </tr>\n",
              "    <tr>\n",
              "      <th>PartidaReal</th>\n",
              "      <td>0.000000</td>\n",
              "    </tr>\n",
              "    <tr>\n",
              "      <th>SiglaICAOAeroportoDestino</th>\n",
              "      <td>0.000000</td>\n",
              "    </tr>\n",
              "    <tr>\n",
              "      <th>DescricaoAeroportoDestino</th>\n",
              "      <td>0.000000</td>\n",
              "    </tr>\n",
              "    <tr>\n",
              "      <th>ChegadaPrevista</th>\n",
              "      <td>0.020366</td>\n",
              "    </tr>\n",
              "    <tr>\n",
              "      <th>ChegadaReal</th>\n",
              "      <td>0.000000</td>\n",
              "    </tr>\n",
              "    <tr>\n",
              "      <th>SituacaoVoo</th>\n",
              "      <td>0.000000</td>\n",
              "    </tr>\n",
              "    <tr>\n",
              "      <th>Justificativa</th>\n",
              "      <td>1.000000</td>\n",
              "    </tr>\n",
              "    <tr>\n",
              "      <th>Referencia</th>\n",
              "      <td>0.000000</td>\n",
              "    </tr>\n",
              "    <tr>\n",
              "      <th>SituacaoPartida</th>\n",
              "      <td>0.020366</td>\n",
              "    </tr>\n",
              "    <tr>\n",
              "      <th>SituacaoChegada</th>\n",
              "      <td>0.020366</td>\n",
              "    </tr>\n",
              "    <tr>\n",
              "      <th>year</th>\n",
              "      <td>0.000000</td>\n",
              "    </tr>\n",
              "    <tr>\n",
              "      <th>month</th>\n",
              "      <td>0.000000</td>\n",
              "    </tr>\n",
              "    <tr>\n",
              "      <th>day</th>\n",
              "      <td>0.000000</td>\n",
              "    </tr>\n",
              "  </tbody>\n",
              "</table>\n",
              "</div><br><label><b>dtype:</b> float64</label>"
            ]
          },
          "metadata": {},
          "execution_count": 30
        }
      ]
    },
    {
      "cell_type": "markdown",
      "source": [
        "# Quantitativo de cada item em cada coluna:"
      ],
      "metadata": {
        "id": "VLL8NwU4UnUH"
      }
    },
    {
      "cell_type": "code",
      "source": [
        "# Especificar as colunas que você deseja iterar\n",
        "variaveis = ['EmpresaAerea', 'ModeloEquipamento', 'DescricaoAeroportoOrigem']\n",
        "\n",
        "# Loop para contar itens nas colunas especificadas\n",
        "for col in variaveis:\n",
        "    print(f\"Counts of items in {col} -->> {filtered_df[col].value_counts()}\") #\\n\n",
        "    print(\"-\" * 25)"
      ],
      "metadata": {
        "colab": {
          "base_uri": "https://localhost:8080/"
        },
        "id": "kq_4kvoMKqGS",
        "outputId": "b10266a4-9d8c-4f74-9a26-9a1dd15d3bce"
      },
      "execution_count": null,
      "outputs": [
        {
          "output_type": "stream",
          "name": "stdout",
          "text": [
            "Counts of items in EmpresaAerea -->> EmpresaAerea\n",
            "TAM LINHAS AÉREAS S.A.                                       5314\n",
            "GOL LINHAS AÉREAS S.A. (EX- VRG LINHAS AÉREAS S.A.)          2473\n",
            "AZUL LINHAS AÉREAS BRASILEIRAS S/A                            745\n",
            "PASSAREDO TRANSPORTES AÉREOS S.A.                             264\n",
            "LATAM AIRLINES GROUP (EX - LAN AIRLINES S/A)                  211\n",
            "SIDERAL LINHAS AÉREAS LTDA.                                   193\n",
            "COMPAÑIA PANAMEÑA DE AVIACION S.A. (COPA AIRLINES)            160\n",
            "AMERICAN AIRLINES, INC.                                       119\n",
            "UNITED AIRLINES, INC                                          117\n",
            "AEROLINEAS ARGENTINAS S/A                                     112\n",
            "TAP - TRANSPORTES AÉREOS PORTUGUESES S/A                       92\n",
            "AEROVIAS DEL CONTINENTE AMERICANO S.A. AVIANCA                 90\n",
            "DELTA AIR LINES INC.                                           90\n",
            "TURKISH AIRLINES INC                                           85\n",
            "QATAR AIRWAYS GROUP                                            82\n",
            "ETHIOPIAN AIRLINES GROUP                                       68\n",
            "AIR CANADA                                                     62\n",
            "SOCIÉTÉ AIR FRANCE                                             60\n",
            "ABSA - AEROLINHAS BRASILEIRAS S.A.                             59\n",
            "ITALIA TRANSPORTO AEREO S.P.A.                                 56\n",
            "TRANSPORTE AÉREOS DEL MERCOSUR S.A. (TAM MERCOSUR)             51\n",
            "IBÉRIA LINEAS AEREAS DE ESPAÑA SOCIEDAD ANONIMA OPERADORA      47\n",
            "SKY AIRLINE S.A.                                               46\n",
            "TOTAL LINHAS AÉREAS S.A.                                       44\n",
            "BOA BOLIVIANA DE AVIACIÓN                                      44\n",
            "EMIRATES                                                       38\n",
            "SWISS INTERNATIONAL AIR LINES LTD.                             38\n",
            "ATLAS AIR INC                                                  34\n",
            "DEUTSCHE LUFTHANSA A.G.                                        31\n",
            "AEROVÍAS DE MÉXICO S.A DE C.V - AEROMÉXICO                     30\n",
            "SKY AIRLINE PERU S.A.C.                                        30\n",
            "AIR EUROPA LINEAS AEREAS SOCIEDAD ANONIMA                      30\n",
            "BRITISH AIRWAYS PLC                                            30\n",
            "JETSMART AIRLINES SPA - CHILE                                  28\n",
            "KLM CIA. REAL HOLANDESA DE AVIAÇÃO                             28\n",
            "ARAJET S.A.                                                    27\n",
            "FB LÍNEAS AÉREAS S.A (FLYBONDI)                                25\n",
            "TAAG LINHAS AÉREAS DE ANGOLA (ANGOLA AIRLINES)                 22\n",
            "SOUTH AFRICAN AIRWAYS STATE OWNED COMPANY (SOC) LIMITED        17\n",
            "ANIVIA SERVIÇOS AÉREOS LTDA                                    12\n",
            "LÍNEA AÉREA CARGUEIRA DE COLOMBIA S.A - LANCO                  10\n",
            "LUFTHANSA CARGO AG                                              9\n",
            "AIR CHINA                                                       9\n",
            "CA TERRA AVIA SRL                                               6\n",
            "NATIONAL AIRLINES                                               3\n",
            "MODERN TRANSPORTE AEREO DE CARGA S.A                            2\n",
            "LAN PERU S.A.                                                   1\n",
            "AIR ATLANTA ICELANDIC                                           1\n",
            "LAN CARGO S.A.                                                  1\n",
            "Name: count, dtype: int64\n",
            "-------------------------\n",
            "Counts of items in ModeloEquipamento -->> ModeloEquipamento\n",
            "A320    2711\n",
            "A321    1839\n",
            "B38M    1492\n",
            "B738    1059\n",
            "A319     637\n",
            "B789     452\n",
            "A20N     373\n",
            "B77W     314\n",
            "AT72     261\n",
            "E195     172\n",
            "B39M     160\n",
            "A339     148\n",
            "B788     142\n",
            "A21N     140\n",
            "B737     138\n",
            "B734     129\n",
            "A359     118\n",
            "E295     110\n",
            "B764      89\n",
            "B772      88\n",
            "B773      81\n",
            "B763      70\n",
            "B77L      60\n",
            "B73Y      58\n",
            "B748      48\n",
            "A333      47\n",
            "B722      42\n",
            "A330      30\n",
            "A35K      30\n",
            "A388      29\n",
            "B78X      29\n",
            "B744      27\n",
            "B733      13\n",
            "A332       4\n",
            "AT76       3\n",
            "AT75       2\n",
            "B735       1\n",
            "Name: count, dtype: int64\n",
            "-------------------------\n",
            "Counts of items in DescricaoAeroportoOrigem -->> DescricaoAeroportoOrigem\n",
            "GUARULHOS - GOVERNADOR ANDRÉ FRANCO MONTORO - GUARULHOS - SP - BRASIL    11146\n",
            "Name: count, dtype: int64\n",
            "-------------------------\n"
          ]
        }
      ]
    },
    {
      "cell_type": "code",
      "source": [
        "# Extract all Types of columns from the data :\n",
        "for col in filtered_df.columns:\n",
        "    obj_cols=filtered_df.select_dtypes(\"object\").columns\n",
        "\n",
        "    num_cols=filtered_df.select_dtypes(\"number\").columns\n",
        "\n",
        "    disc_cols=filtered_df.select_dtypes(include=(\"int64\")).columns\n",
        "\n",
        "    conts_cols=filtered_df.select_dtypes(include=(\"float64\")).columns\n",
        "\n",
        "    Nomial_cols=filtered_df.nunique()[filtered_df.nunique()<3]\n",
        "\n",
        "print(f\"object_columns ----->>> {obj_cols}\\n Numerical_columns ----->>> {num_cols} \\n Discrete_columns ---->>> {disc_cols} \\n Continous_cols ----->> {conts_cols} \\n Nominal Columns --->> {Nomial_cols}\")\n"
      ],
      "metadata": {
        "id": "OHcEX9EmwQrH",
        "colab": {
          "base_uri": "https://localhost:8080/"
        },
        "outputId": "37d2c995-6863-4f1a-9f0d-7f2160ef48b4"
      },
      "execution_count": null,
      "outputs": [
        {
          "output_type": "stream",
          "name": "stdout",
          "text": [
            "object_columns ----->>> Index(['SiglaICAOEmpresaAerea', 'EmpresaAerea', 'NumeroVoo', 'CodigoDI',\n",
            "       'CodigoTipoLinha', 'ModeloEquipamento', 'SiglaICAOAeroportoOrigem',\n",
            "       'DescricaoAeroportoOrigem', 'SiglaICAOAeroportoDestino',\n",
            "       'DescricaoAeroportoDestino', 'SituacaoVoo', 'Justificativa',\n",
            "       'Referencia', 'SituacaoPartida', 'SituacaoChegada'],\n",
            "      dtype='object')\n",
            " Numerical_columns ----->>> Index(['NumerodeAssentos', 'year', 'month', 'day'], dtype='object') \n",
            " Discrete_columns ---->>> Index([], dtype='object') \n",
            " Continous_cols ----->> Index([], dtype='object') \n",
            " Nominal Columns --->> SiglaICAOAeroportoOrigem    1\n",
            "DescricaoAeroportoOrigem    1\n",
            "SituacaoVoo                 1\n",
            "Justificativa               0\n",
            "year                        1\n",
            "month                       1\n",
            "dtype: int64\n"
          ]
        }
      ]
    }
  ]
}